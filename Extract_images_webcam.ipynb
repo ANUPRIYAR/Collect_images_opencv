{
 "cells": [
  {
   "cell_type": "code",
   "execution_count": 26,
   "metadata": {},
   "outputs": [],
   "source": [
    "import cv2\n",
    "import numpy as np\n",
    "import os \n",
    "\n",
    "os.chdir('C:/Users/ar049995/OneDrive - Cerner Corporation/Pictures/Input_Images/')\n",
    "\n",
    "\n",
    "def face_extracter(image):\n",
    "    gray = cv2.cvtColor(image, cv2.COLOR_BGR2GRAY)\n",
    "    face_clf = cv2.CascadeClassifier(cv2.data.haarcascades + 'haarcascade_frontalface_default.xml')    \n",
    "    faces = face_clf.detectMultiScale(gray,1.3,5)\n",
    "    if faces is ():\n",
    "        return None\n",
    "    \n",
    "#     Crop all faces found\n",
    "    for (x,y,w,h) in faces:\n",
    "        x = x - 10\n",
    "        y = y - 10\n",
    "        cropped_face = image[y:y+h+50, x:x+w+50]\n",
    "    return cropped_face"
   ]
  },
  {
   "cell_type": "code",
   "execution_count": 27,
   "metadata": {},
   "outputs": [
    {
     "name": "stdout",
     "output_type": "stream",
     "text": [
      "No face found\n",
      "No face found\n",
      "Images captured\n",
      "Count = 100\n"
     ]
    }
   ],
   "source": [
    "# Initialize Webcam\n",
    "capture = cv2.VideoCapture(0)\n",
    "count = 1\n",
    "\n",
    "while True:\n",
    "    ret, frame = capture.read()\n",
    "    if face_extracter(frame) is not None:\n",
    "        count +=1\n",
    "        face = cv2.resize(face_extracter(frame), (400,400))\n",
    "        \n",
    "        \n",
    "        filepath =  'Image' + str(count) + '.jpg'\n",
    "        cv2.imwrite(filepath, face)\n",
    "        cv2.imshow(\"Face Cropper\", face)\n",
    "        \n",
    "    else: \n",
    "        print(\"No face found\")\n",
    "        \n",
    "    if cv2.waitKey(0) == 13 and count == 100:\n",
    "        print(\"Images captured\")\n",
    "        print(\"Count =\", count)\n",
    "        break\n",
    "        \n",
    "capture.release()\n",
    "cv2.destroyAllWindows()\n",
    "    "
   ]
  },
  {
   "cell_type": "code",
   "execution_count": null,
   "metadata": {},
   "outputs": [],
   "source": [
    "\n",
    "\n",
    "\n"
   ]
  }
 ],
 "metadata": {
  "kernelspec": {
   "display_name": "Python 3",
   "language": "python",
   "name": "python3"
  },
  "language_info": {
   "codemirror_mode": {
    "name": "ipython",
    "version": 3
   },
   "file_extension": ".py",
   "mimetype": "text/x-python",
   "name": "python",
   "nbconvert_exporter": "python",
   "pygments_lexer": "ipython3",
   "version": "3.6.8"
  }
 },
 "nbformat": 4,
 "nbformat_minor": 2
}
